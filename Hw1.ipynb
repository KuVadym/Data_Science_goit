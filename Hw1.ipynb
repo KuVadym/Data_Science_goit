{
  "metadata": {
    "language_info": {
      "codemirror_mode": {
        "name": "python",
        "version": 3
      },
      "file_extension": ".py",
      "mimetype": "text/x-python",
      "name": "python",
      "nbconvert_exporter": "python",
      "pygments_lexer": "ipython3",
      "version": "3.8"
    },
    "kernelspec": {
      "name": "python",
      "display_name": "Python (Pyodide)",
      "language": "python"
    }
  },
  "nbformat_minor": 4,
  "nbformat": 4,
  "cells": [
    {
      "cell_type": "code",
      "source": "import numpy as np",
      "metadata": {
        "trusted": true
      },
      "execution_count": 16,
      "outputs": []
    },
    {
      "cell_type": "code",
      "source": "from math import sqrt",
      "metadata": {
        "trusted": true
      },
      "execution_count": 17,
      "outputs": []
    },
    {
      "cell_type": "code",
      "source": "a = np.matrix(\"1,1,1;0.05,0.07,0;0.05,0,0.06\")\nb = np.matrix(\"50000;2250;1400\")\nx = np.linalg.solve(a, b)",
      "metadata": {
        "trusted": true
      },
      "execution_count": 18,
      "outputs": []
    },
    {
      "cell_type": "code",
      "source": "x",
      "metadata": {
        "trusted": true
      },
      "execution_count": 19,
      "outputs": [
        {
          "execution_count": 19,
          "output_type": "execute_result",
          "data": {
            "text/plain": "matrix([[10000.],\n        [25000.],\n        [15000.]])"
          },
          "metadata": {}
        }
      ]
    },
    {
      "cell_type": "code",
      "source": "a = np.matrix(\"1,1,1; 2,0,1;2,1,0\")\nb = np.matrix(\"1328;1208;1428\")\nx = np.linalg.solve(a, b)",
      "metadata": {
        "trusted": true
      },
      "execution_count": 21,
      "outputs": []
    },
    {
      "cell_type": "code",
      "source": "x",
      "metadata": {
        "trusted": true
      },
      "execution_count": 22,
      "outputs": [
        {
          "execution_count": 22,
          "output_type": "execute_result",
          "data": {
            "text/plain": "matrix([[436.],\n        [556.],\n        [336.]])"
          },
          "metadata": {}
        }
      ]
    },
    {
      "cell_type": "code",
      "source": "a = np.matrix(f\"{sqrt(3)},0,{sqrt(3)};{sqrt(6)},0.5,0;1,0.33,0\")\nb = np.matrix(\"1;1;1\")\nx = np.linalg.solve(a, b)",
      "metadata": {
        "trusted": true
      },
      "execution_count": 23,
      "outputs": []
    },
    {
      "cell_type": "code",
      "source": "x",
      "metadata": {
        "trusted": true
      },
      "execution_count": 24,
      "outputs": [
        {
          "execution_count": 24,
          "output_type": "execute_result",
          "data": {
            "text/plain": "matrix([[-0.55135442],\n        [ 4.70107401],\n        [ 1.12870469]])"
          },
          "metadata": {}
        }
      ]
    },
    {
      "cell_type": "code",
      "source": "a = np.matrix(\"1,1,1; 9,3,1;1,-1,1\")\nb = np.matrix(\"12;54;2\")\nx = np.linalg.solve(a, b)",
      "metadata": {
        "trusted": true
      },
      "execution_count": 25,
      "outputs": []
    },
    {
      "cell_type": "code",
      "source": "x",
      "metadata": {
        "trusted": true
      },
      "execution_count": 26,
      "outputs": [
        {
          "execution_count": 26,
          "output_type": "execute_result",
          "data": {
            "text/plain": "matrix([[4.],\n        [5.],\n        [3.]])"
          },
          "metadata": {}
        }
      ]
    },
    {
      "cell_type": "code",
      "source": "def get_polynom(coords):\n    i = len(coords)\n    a = \"\"\n    b = \"\"\n    for coord in coords:\n        start = 0\n        str_len_fin_start = len(a)\n        for el in range(i):\n            a = str(a[:0]) + str(f\"{(int(coord[0]))**(int(start))}\") + \",\" + str(a[0:])\n            start += 1\n        str_len_fin = len(a)\n        str_len = str_len_fin - str_len_fin_start\n        a = a[:str_len - 1] + \";\" + a[str_len:]\n        b = f\"{coord[1]};\" + b[0:]\n    a_matrix = np.matrix(a[:-1])\n    b_matrix = np.matrix(b[:-1])\n    return np.linalg.solve(a_matrix, b_matrix)",
      "metadata": {
        "trusted": true
      },
      "execution_count": 27,
      "outputs": []
    },
    {
      "cell_type": "code",
      "source": "coords = ([(1,12), (3,54), (-1,2)])\nsolve = get_polynom(coords)\n# print(solve)",
      "metadata": {
        "trusted": true
      },
      "execution_count": 28,
      "outputs": []
    },
    {
      "cell_type": "code",
      "source": "solve",
      "metadata": {
        "trusted": true
      },
      "execution_count": 29,
      "outputs": [
        {
          "execution_count": 29,
          "output_type": "execute_result",
          "data": {
            "text/plain": "matrix([[4.],\n        [5.],\n        [3.]])"
          },
          "metadata": {}
        }
      ]
    },
    {
      "cell_type": "code",
      "source": "",
      "metadata": {},
      "execution_count": null,
      "outputs": []
    }
  ]
}