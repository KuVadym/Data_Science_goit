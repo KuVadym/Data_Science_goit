{
 "cells": [
  {
   "cell_type": "code",
   "execution_count": null,
   "id": "beb13a4c",
   "metadata": {},
   "outputs": [],
   "source": [
    "Для прямоугольной области площадью 1000 м2, примыкающей к прямому участку реки, необходимо построить ограду \n",
    "(причем со стороны реки ограду строить не нужно). При каких размерах области a, b длина ограды будет минимальной? \n",
    "Используйте функцию minimize с параметрами ограничениями bounds и constraints"
   ]
  },
  {
   "cell_type": "code",
   "execution_count": 34,
   "id": "7b2b7407",
   "metadata": {},
   "outputs": [],
   "source": [
    "from scipy.optimize import minimize\n",
    "import numpy as np\n",
    "import matplotlib.pyplot as plt"
   ]
  },
  {
   "cell_type": "raw",
   "id": "62158cac",
   "metadata": {},
   "source": [
    "a*b = 1000\n",
    "a*2+b = min"
   ]
  },
  {
   "cell_type": "code",
   "execution_count": 35,
   "id": "32c57f67",
   "metadata": {},
   "outputs": [],
   "source": [
    "def f(x):\n",
    "  return x[0] * 2 + x[1]\n",
    "\n",
    "def cons(x):\n",
    "  return x[0] * x[1] - 1000"
   ]
  },
  {
   "cell_type": "code",
   "execution_count": 39,
   "id": "24d18263",
   "metadata": {},
   "outputs": [
    {
     "data": {
      "text/plain": [
       "     fun: 89.44271908642853\n",
       "     jac: array([2., 1.])\n",
       " message: 'Optimization terminated successfully'\n",
       "    nfev: 45\n",
       "     nit: 14\n",
       "    njev: 14\n",
       "  status: 0\n",
       " success: True\n",
       "       x: array([22.36067946, 44.72136016])"
      ]
     },
     "execution_count": 39,
     "metadata": {},
     "output_type": "execute_result"
    }
   ],
   "source": [
    "min_size = minimize(f, [1], bounds=((1, None), (10, None)), method='slsqp', constraints=({'type': 'eq', 'fun': cons}))\n",
    "min_size"
   ]
  },
  {
   "cell_type": "code",
   "execution_count": null,
   "id": "f867f8a8",
   "metadata": {},
   "outputs": [],
   "source": []
  },
  {
   "cell_type": "code",
   "execution_count": null,
   "id": "977d5711",
   "metadata": {},
   "outputs": [],
   "source": []
  }
 ],
 "metadata": {
  "kernelspec": {
   "display_name": "Python 3 (ipykernel)",
   "language": "python",
   "name": "python3"
  },
  "language_info": {
   "codemirror_mode": {
    "name": "ipython",
    "version": 3
   },
   "file_extension": ".py",
   "mimetype": "text/x-python",
   "name": "python",
   "nbconvert_exporter": "python",
   "pygments_lexer": "ipython3",
   "version": "3.9.12"
  }
 },
 "nbformat": 4,
 "nbformat_minor": 5
}
