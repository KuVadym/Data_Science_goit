{
  "cells": [
    {
      "cell_type": "markdown",
      "metadata": {
        "id": "view-in-github",
        "colab_type": "text"
      },
      "source": [
        "<a href=\"https://colab.research.google.com/github/KuVadym/Data_Science_goit/blob/main/hw10/hw10.ipynb\" target=\"_parent\"><img src=\"https://colab.research.google.com/assets/colab-badge.svg\" alt=\"Open In Colab\"/></a>"
      ]
    },
    {
      "cell_type": "code",
      "execution_count": 2,
      "id": "424f8efc",
      "metadata": {
        "id": "424f8efc"
      },
      "outputs": [],
      "source": [
        "import sys\n",
        "from matplotlib import pyplot\n",
        "from keras.datasets import fashion_mnist\n",
        "from tensorflow.keras.utils import to_categorical\n",
        "from keras.models import Sequential\n",
        "from keras.layers import Conv2D\n",
        "from keras.layers import MaxPooling2D\n",
        "from keras.layers import Dense\n",
        "from keras.layers import Flatten\n",
        "from tensorflow.keras.optimizers import SGD"
      ]
    },
    {
      "cell_type": "code",
      "execution_count": 3,
      "id": "0c6d5e3c",
      "metadata": {
        "id": "0c6d5e3c"
      },
      "outputs": [],
      "source": [
        "def load_dataset():\n",
        "    # завантажимо датасет\n",
        "    (x_train, y_train), (x_test, y_test) = fashion_mnist.load_data()\n",
        "    # one hot encoding\n",
        "    y_train = to_categorical(y_train)\n",
        "    y_test = to_categorical(y_test)\n",
        "    return x_train, y_train, x_test, y_test"
      ]
    },
    {
      "cell_type": "code",
      "execution_count": 4,
      "id": "ed8e313c",
      "metadata": {
        "id": "ed8e313c"
      },
      "outputs": [],
      "source": [
        "def prep_pixels(train, test):\n",
        "    x_train = train.astype('float32')\n",
        "    x_test = test.astype('float32')\n",
        "    x_train = x_train / 255.0\n",
        "    x_test = x_test / 255.0\n",
        "    return x_train, x_test"
      ]
    },
    {
      "cell_type": "code",
      "execution_count": 5,
      "id": "16dc286f",
      "metadata": {
        "id": "16dc286f"
      },
      "outputs": [],
      "source": [
        "g_i = 0\n",
        "# відмальовка значень при навчанні мережі\n",
        "def summarize_diagnostics(history):\n",
        "    # відмальовка loss-у\n",
        "    pyplot.subplot(211)\n",
        "    pyplot.title('Перехресна втрата ентропії')\n",
        "    pyplot.plot(history.history['loss'], color='blue', label='train')\n",
        "    pyplot.plot(history.history['val_loss'], color='orange', label='test')\n",
        "    # відмальовка точності\n",
        "    pyplot.subplot(212)\n",
        "    pyplot.title('Точність класифікації')\n",
        "    pyplot.plot(history.history['accuracy'], color='blue', label='train')\n",
        "    pyplot.plot(history.history['val_accuracy'], color='orange', label='test')\n",
        "    # Збередення графіку у файл\n",
        "    global g_i\n",
        "    filename = str(g_i)\n",
        "    g_i += 1\n",
        "    pyplot.show()\n",
        "    pyplot.savefig(filename + '_plot.png')\n",
        "    pyplot.close()"
      ]
    },
    {
      "cell_type": "code",
      "execution_count": 6,
      "id": "faeac27e",
      "metadata": {
        "id": "faeac27e"
      },
      "outputs": [],
      "source": [
        "def run_test_harness():\n",
        "    # завантажимо датасет\n",
        "    trainX, trainY, testX, testY = load_dataset()\n",
        "    # підготуємо піксельні дані\n",
        "    trainX, testX = prep_pixels(trainX, testX)\n",
        "    # визначимо модель\n",
        "    model = define_model()\n",
        "    # \"зафітимо\" модель\n",
        "    history = model.fit(trainX, trainY, epochs=30, batch_size=64, validation_data=(testX, testY))\n",
        "    # вкажемо точність натренованої моделі\n",
        "    _, acc = model.evaluate(testX, testY, verbose=0)\n",
        "    print('> %.3f' % (acc * 100.0))\n",
        "    # відмалюємо графіки\n",
        "    summarize_diagnostics(history)"
      ]
    },
    {
      "cell_type": "code",
      "execution_count": 7,
      "id": "2e16de2d",
      "metadata": {
        "colab": {
          "base_uri": "https://localhost:8080/",
          "height": 1000
        },
        "id": "2e16de2d",
        "outputId": "91547f5d-0acc-4f66-e5e3-8e70b59ed2e5"
      },
      "outputs": [
        {
          "output_type": "stream",
          "name": "stdout",
          "text": [
            "Downloading data from https://storage.googleapis.com/tensorflow/tf-keras-datasets/train-labels-idx1-ubyte.gz\n",
            "29515/29515 [==============================] - 0s 0us/step\n",
            "Downloading data from https://storage.googleapis.com/tensorflow/tf-keras-datasets/train-images-idx3-ubyte.gz\n",
            "26421880/26421880 [==============================] - 1s 0us/step\n",
            "Downloading data from https://storage.googleapis.com/tensorflow/tf-keras-datasets/t10k-labels-idx1-ubyte.gz\n",
            "5148/5148 [==============================] - 0s 0us/step\n",
            "Downloading data from https://storage.googleapis.com/tensorflow/tf-keras-datasets/t10k-images-idx3-ubyte.gz\n",
            "4422102/4422102 [==============================] - 0s 0us/step\n",
            "Model: \"sequential\"\n",
            "_________________________________________________________________\n",
            " Layer (type)                Output Shape              Param #   \n",
            "=================================================================\n",
            " conv2d (Conv2D)             (None, 28, 28, 32)        320       \n",
            "                                                                 \n",
            " conv2d_1 (Conv2D)           (None, 28, 28, 32)        9248      \n",
            "                                                                 \n",
            " max_pooling2d (MaxPooling2D  (None, 14, 14, 32)       0         \n",
            " )                                                               \n",
            "                                                                 \n",
            " dropout (Dropout)           (None, 14, 14, 32)        0         \n",
            "                                                                 \n",
            " conv2d_2 (Conv2D)           (None, 14, 14, 64)        18496     \n",
            "                                                                 \n",
            " conv2d_3 (Conv2D)           (None, 14, 14, 64)        36928     \n",
            "                                                                 \n",
            " max_pooling2d_1 (MaxPooling  (None, 7, 7, 64)         0         \n",
            " 2D)                                                             \n",
            "                                                                 \n",
            " dropout_1 (Dropout)         (None, 7, 7, 64)          0         \n",
            "                                                                 \n",
            " conv2d_4 (Conv2D)           (None, 7, 7, 128)         73856     \n",
            "                                                                 \n",
            " conv2d_5 (Conv2D)           (None, 7, 7, 128)         147584    \n",
            "                                                                 \n",
            " max_pooling2d_2 (MaxPooling  (None, 3, 3, 128)        0         \n",
            " 2D)                                                             \n",
            "                                                                 \n",
            " dropout_2 (Dropout)         (None, 3, 3, 128)         0         \n",
            "                                                                 \n",
            " flatten (Flatten)           (None, 1152)              0         \n",
            "                                                                 \n",
            " dense (Dense)               (None, 128)               147584    \n",
            "                                                                 \n",
            " dropout_3 (Dropout)         (None, 128)               0         \n",
            "                                                                 \n",
            " dense_1 (Dense)             (None, 10)                1290      \n",
            "                                                                 \n",
            "=================================================================\n",
            "Total params: 435,306\n",
            "Trainable params: 435,306\n",
            "Non-trainable params: 0\n",
            "_________________________________________________________________\n"
          ]
        },
        {
          "output_type": "stream",
          "name": "stderr",
          "text": [
            "/usr/local/lib/python3.8/dist-packages/keras/optimizers/optimizer_v2/gradient_descent.py:108: UserWarning: The `lr` argument is deprecated, use `learning_rate` instead.\n",
            "  super(SGD, self).__init__(name, **kwargs)\n"
          ]
        },
        {
          "output_type": "stream",
          "name": "stdout",
          "text": [
            "Epoch 1/30\n",
            "938/938 [==============================] - 16s 8ms/step - loss: 0.9106 - accuracy: 0.6647 - val_loss: 0.5567 - val_accuracy: 0.7846\n",
            "Epoch 2/30\n",
            "938/938 [==============================] - 7s 8ms/step - loss: 0.5705 - accuracy: 0.7883 - val_loss: 0.4602 - val_accuracy: 0.8277\n",
            "Epoch 3/30\n",
            "938/938 [==============================] - 7s 8ms/step - loss: 0.4969 - accuracy: 0.8160 - val_loss: 0.4138 - val_accuracy: 0.8471\n",
            "Epoch 4/30\n",
            "938/938 [==============================] - 7s 8ms/step - loss: 0.4469 - accuracy: 0.8366 - val_loss: 0.3811 - val_accuracy: 0.8631\n",
            "Epoch 5/30\n",
            "938/938 [==============================] - 7s 8ms/step - loss: 0.4137 - accuracy: 0.8481 - val_loss: 0.3496 - val_accuracy: 0.8726\n",
            "Epoch 6/30\n",
            "938/938 [==============================] - 7s 8ms/step - loss: 0.3848 - accuracy: 0.8584 - val_loss: 0.3310 - val_accuracy: 0.8785\n",
            "Epoch 7/30\n",
            "938/938 [==============================] - 8s 8ms/step - loss: 0.3661 - accuracy: 0.8652 - val_loss: 0.3182 - val_accuracy: 0.8841\n",
            "Epoch 8/30\n",
            "938/938 [==============================] - 7s 8ms/step - loss: 0.3509 - accuracy: 0.8717 - val_loss: 0.3058 - val_accuracy: 0.8903\n",
            "Epoch 9/30\n",
            "938/938 [==============================] - 7s 7ms/step - loss: 0.3388 - accuracy: 0.8763 - val_loss: 0.3007 - val_accuracy: 0.8930\n",
            "Epoch 10/30\n",
            "938/938 [==============================] - 7s 7ms/step - loss: 0.3256 - accuracy: 0.8812 - val_loss: 0.2936 - val_accuracy: 0.8931\n",
            "Epoch 11/30\n",
            "938/938 [==============================] - 7s 8ms/step - loss: 0.3180 - accuracy: 0.8839 - val_loss: 0.2839 - val_accuracy: 0.8960\n",
            "Epoch 12/30\n",
            "938/938 [==============================] - 7s 7ms/step - loss: 0.3066 - accuracy: 0.8881 - val_loss: 0.2799 - val_accuracy: 0.8988\n",
            "Epoch 13/30\n",
            "938/938 [==============================] - 7s 8ms/step - loss: 0.3015 - accuracy: 0.8899 - val_loss: 0.2766 - val_accuracy: 0.8979\n",
            "Epoch 14/30\n",
            "938/938 [==============================] - 7s 7ms/step - loss: 0.2919 - accuracy: 0.8925 - val_loss: 0.2745 - val_accuracy: 0.9017\n",
            "Epoch 15/30\n",
            "938/938 [==============================] - 7s 8ms/step - loss: 0.2855 - accuracy: 0.8949 - val_loss: 0.2615 - val_accuracy: 0.9063\n",
            "Epoch 16/30\n",
            "938/938 [==============================] - 7s 7ms/step - loss: 0.2794 - accuracy: 0.8978 - val_loss: 0.2625 - val_accuracy: 0.9043\n",
            "Epoch 17/30\n",
            "938/938 [==============================] - 7s 8ms/step - loss: 0.2739 - accuracy: 0.8992 - val_loss: 0.2531 - val_accuracy: 0.9087\n",
            "Epoch 18/30\n",
            "938/938 [==============================] - 7s 8ms/step - loss: 0.2701 - accuracy: 0.9013 - val_loss: 0.2558 - val_accuracy: 0.9080\n",
            "Epoch 19/30\n",
            "938/938 [==============================] - 7s 7ms/step - loss: 0.2641 - accuracy: 0.9026 - val_loss: 0.2496 - val_accuracy: 0.9095\n",
            "Epoch 20/30\n",
            "938/938 [==============================] - 7s 8ms/step - loss: 0.2609 - accuracy: 0.9040 - val_loss: 0.2446 - val_accuracy: 0.9129\n",
            "Epoch 21/30\n",
            "938/938 [==============================] - 7s 8ms/step - loss: 0.2538 - accuracy: 0.9067 - val_loss: 0.2490 - val_accuracy: 0.9087\n",
            "Epoch 22/30\n",
            "938/938 [==============================] - 7s 8ms/step - loss: 0.2532 - accuracy: 0.9065 - val_loss: 0.2374 - val_accuracy: 0.9140\n",
            "Epoch 23/30\n",
            "938/938 [==============================] - 7s 8ms/step - loss: 0.2498 - accuracy: 0.9082 - val_loss: 0.2422 - val_accuracy: 0.9107\n",
            "Epoch 24/30\n",
            "938/938 [==============================] - 7s 8ms/step - loss: 0.2449 - accuracy: 0.9098 - val_loss: 0.2422 - val_accuracy: 0.9137\n",
            "Epoch 25/30\n",
            "938/938 [==============================] - 7s 8ms/step - loss: 0.2405 - accuracy: 0.9111 - val_loss: 0.2298 - val_accuracy: 0.9169\n",
            "Epoch 26/30\n",
            "938/938 [==============================] - 7s 7ms/step - loss: 0.2360 - accuracy: 0.9136 - val_loss: 0.2303 - val_accuracy: 0.9172\n",
            "Epoch 27/30\n",
            "938/938 [==============================] - 7s 8ms/step - loss: 0.2339 - accuracy: 0.9142 - val_loss: 0.2228 - val_accuracy: 0.9208\n",
            "Epoch 28/30\n",
            "938/938 [==============================] - 7s 7ms/step - loss: 0.2324 - accuracy: 0.9138 - val_loss: 0.2265 - val_accuracy: 0.9192\n",
            "Epoch 29/30\n",
            "938/938 [==============================] - 7s 7ms/step - loss: 0.2301 - accuracy: 0.9164 - val_loss: 0.2255 - val_accuracy: 0.9181\n",
            "Epoch 30/30\n",
            "938/938 [==============================] - 7s 8ms/step - loss: 0.2254 - accuracy: 0.9173 - val_loss: 0.2219 - val_accuracy: 0.9189\n",
            "> 91.890\n"
          ]
        },
        {
          "output_type": "display_data",
          "data": {
            "text/plain": [
              "<Figure size 432x288 with 2 Axes>"
            ],
            "image/png": "[encoded data removed]"
          },
          "metadata": {
            "needs_background": "light"
          }
        }
      ],
      "source": [
        "from keras.layers import Dropout\n",
        "\n",
        "def define_model():\n",
        "\tmodel = Sequential()\n",
        "\tmodel.add(Conv2D(32, (3, 3), activation='relu', kernel_initializer='he_uniform', padding='same', input_shape=(28, 28, 1)))\n",
        "\tmodel.add(Conv2D(32, (3, 3), activation='relu', kernel_initializer='he_uniform', padding='same'))\n",
        "\tmodel.add(MaxPooling2D((2, 2)))\n",
        "\tmodel.add(Dropout(0.2))\n",
        "\tmodel.add(Conv2D(64, (3, 3), activation='relu', kernel_initializer='he_uniform', padding='same'))\n",
        "\tmodel.add(Conv2D(64, (3, 3), activation='relu', kernel_initializer='he_uniform', padding='same'))\n",
        "\tmodel.add(MaxPooling2D((2, 2)))\n",
        "\tmodel.add(Dropout(0.2))\n",
        "\tmodel.add(Conv2D(128, (3, 3), activation='relu', kernel_initializer='he_uniform', padding='same'))\n",
        "\tmodel.add(Conv2D(128, (3, 3), activation='relu', kernel_initializer='he_uniform', padding='same'))\n",
        "\tmodel.add(MaxPooling2D((2, 2)))\n",
        "\tmodel.add(Dropout(0.2))\n",
        "\tmodel.add(Flatten())\n",
        "\tmodel.add(Dense(128, activation='relu', kernel_initializer='he_uniform'))\n",
        "\tmodel.add(Dropout(0.2))\n",
        "\tmodel.add(Dense(10, activation='softmax'))\n",
        "\tmodel.summary()\n",
        "\topt = SGD(lr=0.001, momentum=0.9)\n",
        "\tmodel.compile(optimizer=opt, loss='categorical_crossentropy', metrics=['accuracy'])\n",
        "\treturn model\n",
        " \n",
        "run_test_harness()"
      ]
    }
  ],
  "metadata": {
    "kernelspec": {
      "display_name": "Python 3 (ipykernel)",
      "language": "python",
      "name": "python3"
    },
    "language_info": {
      "codemirror_mode": {
        "name": "ipython",
        "version": 3
      },
      "file_extension": ".py",
      "mimetype": "text/x-python",
      "name": "python",
      "nbconvert_exporter": "python",
      "pygments_lexer": "ipython3",
      "version": "3.9.12"
    },
    "colab": {
      "provenance": [],
      "include_colab_link": true
    },
    "accelerator": "GPU",
    "gpuClass": "standard"
  },
  "nbformat": 4,
  "nbformat_minor": 5
}