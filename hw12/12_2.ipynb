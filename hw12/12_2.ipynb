{
 "cells": [
  {
   "cell_type": "code",
   "execution_count": 1,
   "id": "e12874b6",
   "metadata": {},
   "outputs": [],
   "source": [
    "from keras import layers\n",
    "from keras import models\n",
    "\n",
    "model = models.Sequential([\n",
    "    layers.Conv2D(32, (3, 3), activation=\"relu\", input_shape=(28, 28, 1)),\n",
    "    layers.Conv2D(64, (3, 3), activation=\"relu\"),\n",
    "    layers.MaxPooling2D((2, 2)),\n",
    "\n",
    "    layers.Conv2D(64, (3, 3), activation=\"relu\"),\n",
    "    layers.MaxPooling2D((2, 2)),\n",
    "\n",
    "    layers.Flatten(),\n",
    "    layers.Dense(64, activation=\"relu\"),\n",
    "\n",
    "    layers.Dense(10, activation=\"softmax\")\n",
    "])"
   ]
  },
  {
   "cell_type": "code",
   "execution_count": 15,
   "id": "ac89906c",
   "metadata": {},
   "outputs": [],
   "source": [
    "from keras.datasets import fashion_mnist\n",
    "from tensorflow.keras.utils import to_categorical\n",
    "\n",
    "(train_images, train_labels), (test_images, test_labels) = fashion_mnist.load_data()\n",
    "\n",
    "train_images = train_images.reshape((60000, 28, 28, 1))\n",
    "train_images = train_images.astype(\"float32\") / 255\n",
    "test_images = test_images.reshape((10000, 28, 28, 1))\n",
    "test_images = test_images.astype(\"float32\") / 255\n",
    "train_labels = to_categorical(train_labels)\n",
    "test_labels = to_categorical(test_labels)"
   ]
  },
  {
   "cell_type": "code",
   "execution_count": 11,
   "id": "49da95a0",
   "metadata": {},
   "outputs": [
    {
     "name": "stdout",
     "output_type": "stream",
     "text": [
      "Model: \"sequential_2\"\n",
      "_________________________________________________________________\n",
      " Layer (type)                Output Shape              Param #   \n",
      "=================================================================\n",
      " conv2d_6 (Conv2D)           (None, 26, 26, 32)        320       \n",
      "                                                                 \n",
      " conv2d_7 (Conv2D)           (None, 24, 24, 64)        18496     \n",
      "                                                                 \n",
      " max_pooling2d_4 (MaxPooling  (None, 12, 12, 64)       0         \n",
      " 2D)                                                             \n",
      "                                                                 \n",
      " conv2d_8 (Conv2D)           (None, 10, 10, 64)        36928     \n",
      "                                                                 \n",
      " max_pooling2d_5 (MaxPooling  (None, 5, 5, 64)         0         \n",
      " 2D)                                                             \n",
      "                                                                 \n",
      " flatten_2 (Flatten)         (None, 1600)              0         \n",
      "                                                                 \n",
      " dense_4 (Dense)             (None, 64)                102464    \n",
      "                                                                 \n",
      " dense_5 (Dense)             (None, 10)                650       \n",
      "                                                                 \n",
      "=================================================================\n",
      "Total params: 158,858\n",
      "Trainable params: 158,858\n",
      "Non-trainable params: 0\n",
      "_________________________________________________________________\n"
     ]
    }
   ],
   "source": [
    "model.summary()"
   ]
  },
  {
   "cell_type": "code",
   "execution_count": 12,
   "id": "443bb606",
   "metadata": {},
   "outputs": [
    {
     "name": "stdout",
     "output_type": "stream",
     "text": [
      "Epoch 1/10\n",
      "469/469 [==============================] - 13s 10ms/step - loss: 0.5398 - accuracy: 0.8015\n",
      "Epoch 2/10\n",
      "469/469 [==============================] - 4s 9ms/step - loss: 0.3111 - accuracy: 0.8867\n",
      "Epoch 3/10\n",
      "469/469 [==============================] - 4s 9ms/step - loss: 0.2535 - accuracy: 0.9064\n",
      "Epoch 4/10\n",
      "469/469 [==============================] - 4s 9ms/step - loss: 0.2207 - accuracy: 0.9193\n",
      "Epoch 5/10\n",
      "469/469 [==============================] - 4s 9ms/step - loss: 0.1942 - accuracy: 0.9284\n",
      "Epoch 6/10\n",
      "469/469 [==============================] - 4s 9ms/step - loss: 0.1732 - accuracy: 0.9362\n",
      "Epoch 7/10\n",
      "469/469 [==============================] - 4s 9ms/step - loss: 0.1561 - accuracy: 0.9427\n",
      "Epoch 8/10\n",
      "469/469 [==============================] - 4s 9ms/step - loss: 0.1403 - accuracy: 0.9489\n",
      "Epoch 9/10\n",
      "469/469 [==============================] - 4s 9ms/step - loss: 0.1244 - accuracy: 0.9542\n",
      "Epoch 10/10\n",
      "469/469 [==============================] - 4s 9ms/step - loss: 0.1107 - accuracy: 0.9587\n"
     ]
    },
    {
     "data": {
      "text/plain": [
       "<keras.callbacks.History at 0x1eba6c6c280>"
      ]
     },
     "execution_count": 12,
     "metadata": {},
     "output_type": "execute_result"
    }
   ],
   "source": [
    "model.compile(\n",
    "    optimizer=\"rmsprop\",\n",
    "    loss=\"categorical_crossentropy\",\n",
    "    metrics=[\"accuracy\"]\n",
    ")\n",
    "model.fit(train_images, train_labels, epochs=10, batch_size=128)"
   ]
  },
  {
   "cell_type": "code",
   "execution_count": 13,
   "id": "ee1db338",
   "metadata": {},
   "outputs": [
    {
     "name": "stdout",
     "output_type": "stream",
     "text": [
      "313/313 [==============================] - 1s 3ms/step - loss: 0.2503 - accuracy: 0.9177\n",
      "0.9176999926567078\n",
      "0.2502831816673279\n"
     ]
    }
   ],
   "source": [
    "test_loss, test_acc = model.evaluate(test_images, test_labels)\n",
    "print(test_acc)\n",
    "print(test_loss)"
   ]
  },
  {
   "cell_type": "code",
   "execution_count": 40,
   "id": "3e185fbf",
   "metadata": {},
   "outputs": [],
   "source": [
    "import tensorflow as tf\n",
    "\n",
    "from keras.applications.vgg16 import VGG16\n",
    "from keras import models\n",
    "from keras import layers\n",
    "from keras.preprocessing.image import ImageDataGenerator\n",
    "from keras import optimizers\n",
    "\n",
    "\n",
    "conv_base = VGG16(weights=\"imagenet\", include_top=False, input_shape=(32, 32, 3))\n",
    "conv_base.trainable = True\n",
    "set_trainable = False\n",
    "for layer in conv_base.layers:\n",
    "    if layer.name == \"block5_conv1\" or \"block5_conv2\" or \"block5_conv3\" or \"block5_pool\":\n",
    "        set_trainable = True\n",
    "    if layer.name == \"block4_conv3\" or \"block4_conv2\" or \"block4_conv1\" or \"block4_pool\":\n",
    "        set_trainable = True\n",
    "    if set_trainable:\n",
    "        layer.trainable = True\n",
    "    else:\n",
    "        layer.trainable = False\n",
    "\n",
    "model = models.Sequential([\n",
    "   conv_base,\n",
    "   layers.Flatten(),\n",
    "   layers.Dense(256, activation=\"relu\"),\n",
    "    layers.Dense(128, activation=\"relu\"),\n",
    "   layers.Dense(10, activation=\"softmax\"),\n",
    "])\n",
    "\n",
    "model.compile(\n",
    "    loss=\"binary_crossentropy\",\n",
    "    optimizer=tf.keras.optimizers.RMSprop(learning_rate=2e-5),\n",
    "    metrics=[\"acc\"]\n",
    ")"
   ]
  },
  {
   "cell_type": "code",
   "execution_count": null,
   "id": "ee101eeb",
   "metadata": {},
   "outputs": [],
   "source": []
  },
  {
   "cell_type": "code",
   "execution_count": 3,
   "id": "abb4b34a",
   "metadata": {},
   "outputs": [],
   "source": [
    "import numpy as np\n",
    "import pandas as pd\n",
    "train_data = pd.read_csv('C:/Users/kuzik/Desktop/hw12/fashion-mnist_train.csv')\n",
    "test_data = pd.read_csv('C:/Users/kuzik/Desktop/hw12/fashion-mnist_test.csv')\n",
    "train_X= np.array(train_data.iloc[:,1:])\n",
    "test_X= np.array(test_data.iloc[:,1:])\n",
    "train_Y= np.array (train_data.iloc[:,0]) # (60000,)\n",
    "test_Y = np.array(test_data.iloc[:,0]) #(10000,)"
   ]
  },
  {
   "cell_type": "code",
   "execution_count": 4,
   "id": "87749690",
   "metadata": {},
   "outputs": [
    {
     "data": {
      "text/plain": [
       "((60000, 784, 3), (10000, 784, 3))"
      ]
     },
     "execution_count": 4,
     "metadata": {},
     "output_type": "execute_result"
    }
   ],
   "source": [
    "train_X=np.dstack([train_X] * 3)\n",
    "test_X=np.dstack([test_X]*3)\n",
    "train_X.shape,test_X.shape"
   ]
  },
  {
   "cell_type": "code",
   "execution_count": 5,
   "id": "ebbfc66a",
   "metadata": {},
   "outputs": [
    {
     "data": {
      "text/plain": [
       "((60000, 28, 28, 3), (10000, 28, 28, 3))"
      ]
     },
     "execution_count": 5,
     "metadata": {},
     "output_type": "execute_result"
    }
   ],
   "source": [
    "train_X = train_X.reshape(-1, 28,28,3)\n",
    "test_X= test_X.reshape (-1,28,28,3)\n",
    "train_X.shape, test_X.shape"
   ]
  },
  {
   "cell_type": "code",
   "execution_count": 6,
   "id": "598d9c8b",
   "metadata": {},
   "outputs": [
    {
     "data": {
      "text/plain": [
       "((60000, 32, 32, 3), (10000, 32, 32, 3))"
      ]
     },
     "execution_count": 6,
     "metadata": {},
     "output_type": "execute_result"
    }
   ],
   "source": [
    "from keras.utils import img_to_array, array_to_img\n",
    "train_X = np.asarray([img_to_array(array_to_img(im, scale=False).resize((32, 32))) for im in train_X])\n",
    "test_X = np.asarray([img_to_array(array_to_img(im, scale=False).resize((32, 32))) for im in test_X])\n",
    "train_X.shape, test_X.shape"
   ]
  },
  {
   "cell_type": "code",
   "execution_count": 7,
   "id": "c6772b30",
   "metadata": {},
   "outputs": [],
   "source": [
    "train_X = train_X / 255.\n",
    "test_X = test_X / 255.\n",
    "train_X = train_X.astype('float32')\n",
    "test_X = test_X.astype('float32')"
   ]
  },
  {
   "cell_type": "code",
   "execution_count": 9,
   "id": "2faf3073",
   "metadata": {
    "scrolled": true
   },
   "outputs": [],
   "source": [
    "# from tensorflow.keras.utils import to_categorical\n",
    "train_Y_one_hot = to_categorical(train_Y)\n",
    "test_Y_one_hot = to_categorical(test_Y)"
   ]
  },
  {
   "cell_type": "code",
   "execution_count": 10,
   "id": "f4212f70",
   "metadata": {
    "scrolled": true
   },
   "outputs": [
    {
     "data": {
      "text/plain": [
       "((48000, 32, 32, 3), (12000, 32, 32, 3), (48000, 10), (12000, 10))"
      ]
     },
     "execution_count": 10,
     "metadata": {},
     "output_type": "execute_result"
    }
   ],
   "source": [
    "from sklearn.model_selection import train_test_split\n",
    "train_X, valid_X, train_label, valid_label = train_test_split(train_X,\n",
    "                                                              train_Y_one_hot,\n",
    "                                                              test_size=0.2,\n",
    "                                                              random_state=13\n",
    "                                                              )\n",
    "train_X.shape,valid_X.shape,train_label.shape,valid_label.shape"
   ]
  },
  {
   "cell_type": "code",
   "execution_count": 11,
   "id": "7cc8eca6",
   "metadata": {},
   "outputs": [],
   "source": [
    "train_X = train_X.astype(\"float32\") / 255\n",
    "valid_X = valid_X.astype(\"float32\") / 255\n",
    "test_X = test_X.astype(\"float32\") / 255"
   ]
  },
  {
   "cell_type": "code",
   "execution_count": 12,
   "id": "e97bb1d5",
   "metadata": {},
   "outputs": [
    {
     "data": {
      "text/plain": [
       "(48000, 10)"
      ]
     },
     "execution_count": 12,
     "metadata": {},
     "output_type": "execute_result"
    }
   ],
   "source": [
    "train_label.shape"
   ]
  },
  {
   "cell_type": "code",
   "execution_count": 41,
   "id": "4ff8acb7",
   "metadata": {
    "scrolled": false
   },
   "outputs": [
    {
     "name": "stdout",
     "output_type": "stream",
     "text": [
      "Epoch 1/100\n",
      "750/750 [==============================] - 32s 37ms/step - loss: 0.3264 - acc: 0.1221 - val_loss: 0.3185 - val_acc: 0.1729\n",
      "Epoch 2/100\n",
      "750/750 [==============================] - 27s 36ms/step - loss: 0.2553 - acc: 0.3300 - val_loss: 0.2432 - val_acc: 0.3587\n",
      "Epoch 3/100\n",
      "750/750 [==============================] - 27s 36ms/step - loss: 0.1803 - acc: 0.5572 - val_loss: 0.1404 - val_acc: 0.6783\n",
      "Epoch 4/100\n",
      "750/750 [==============================] - 27s 36ms/step - loss: 0.1393 - acc: 0.6781 - val_loss: 0.1128 - val_acc: 0.7597\n",
      "Epoch 5/100\n",
      "750/750 [==============================] - 27s 36ms/step - loss: 0.1156 - acc: 0.7421 - val_loss: 0.1269 - val_acc: 0.7224\n",
      "Epoch 6/100\n",
      "750/750 [==============================] - 27s 36ms/step - loss: 0.1012 - acc: 0.7784 - val_loss: 0.0936 - val_acc: 0.8017\n",
      "Epoch 7/100\n",
      "750/750 [==============================] - 27s 36ms/step - loss: 0.0910 - acc: 0.8023 - val_loss: 0.0855 - val_acc: 0.8133\n",
      "Epoch 8/100\n",
      "750/750 [==============================] - 27s 36ms/step - loss: 0.0832 - acc: 0.8221 - val_loss: 0.0780 - val_acc: 0.8408\n",
      "Epoch 9/100\n",
      "750/750 [==============================] - 27s 36ms/step - loss: 0.0768 - acc: 0.8366 - val_loss: 0.0815 - val_acc: 0.8224\n",
      "Epoch 10/100\n",
      "750/750 [==============================] - 27s 36ms/step - loss: 0.0723 - acc: 0.8462 - val_loss: 0.0854 - val_acc: 0.8161\n",
      "Epoch 11/100\n",
      "750/750 [==============================] - 27s 36ms/step - loss: 0.0682 - acc: 0.8566 - val_loss: 0.0689 - val_acc: 0.8547\n",
      "Epoch 12/100\n",
      "750/750 [==============================] - 27s 36ms/step - loss: 0.0649 - acc: 0.8641 - val_loss: 0.0629 - val_acc: 0.8713\n",
      "Epoch 13/100\n",
      "750/750 [==============================] - 27s 36ms/step - loss: 0.0622 - acc: 0.8708 - val_loss: 0.0661 - val_acc: 0.8616\n",
      "Epoch 14/100\n",
      "750/750 [==============================] - 27s 36ms/step - loss: 0.0598 - acc: 0.8749 - val_loss: 0.0580 - val_acc: 0.8832\n",
      "Epoch 15/100\n",
      "750/750 [==============================] - 27s 36ms/step - loss: 0.0581 - acc: 0.8789 - val_loss: 0.0641 - val_acc: 0.8671\n",
      "Epoch 16/100\n",
      "750/750 [==============================] - 27s 36ms/step - loss: 0.0559 - acc: 0.8837 - val_loss: 0.0649 - val_acc: 0.8618\n",
      "Epoch 17/100\n",
      "750/750 [==============================] - 27s 36ms/step - loss: 0.0543 - acc: 0.8878 - val_loss: 0.0546 - val_acc: 0.8894\n",
      "Epoch 18/100\n",
      "750/750 [==============================] - 27s 36ms/step - loss: 0.0525 - acc: 0.8914 - val_loss: 0.0616 - val_acc: 0.8710\n",
      "Epoch 19/100\n",
      "750/750 [==============================] - 27s 36ms/step - loss: 0.0509 - acc: 0.8954 - val_loss: 0.0606 - val_acc: 0.8762\n",
      "Epoch 20/100\n",
      "750/750 [==============================] - 27s 36ms/step - loss: 0.0495 - acc: 0.8991 - val_loss: 0.0582 - val_acc: 0.8821\n",
      "Epoch 21/100\n",
      "750/750 [==============================] - 27s 36ms/step - loss: 0.0481 - acc: 0.9005 - val_loss: 0.0529 - val_acc: 0.8931\n",
      "Epoch 22/100\n",
      "750/750 [==============================] - 27s 36ms/step - loss: 0.0468 - acc: 0.9034 - val_loss: 0.0549 - val_acc: 0.8918\n",
      "Epoch 23/100\n",
      "750/750 [==============================] - 27s 36ms/step - loss: 0.0456 - acc: 0.9064 - val_loss: 0.0533 - val_acc: 0.8944\n",
      "Epoch 24/100\n",
      "750/750 [==============================] - 27s 36ms/step - loss: 0.0444 - acc: 0.9095 - val_loss: 0.0532 - val_acc: 0.8898\n",
      "Epoch 25/100\n",
      "750/750 [==============================] - 27s 36ms/step - loss: 0.0431 - acc: 0.9133 - val_loss: 0.0484 - val_acc: 0.9031\n",
      "Epoch 26/100\n",
      "750/750 [==============================] - 27s 36ms/step - loss: 0.0417 - acc: 0.9151 - val_loss: 0.0489 - val_acc: 0.9011\n",
      "Epoch 27/100\n",
      "750/750 [==============================] - 27s 36ms/step - loss: 0.0409 - acc: 0.9162 - val_loss: 0.0488 - val_acc: 0.9007\n",
      "Epoch 28/100\n",
      "750/750 [==============================] - 27s 36ms/step - loss: 0.0399 - acc: 0.9183 - val_loss: 0.0511 - val_acc: 0.8972\n",
      "Epoch 29/100\n",
      "750/750 [==============================] - 27s 36ms/step - loss: 0.0389 - acc: 0.9220 - val_loss: 0.0493 - val_acc: 0.9037\n",
      "Epoch 30/100\n",
      "750/750 [==============================] - 27s 36ms/step - loss: 0.0380 - acc: 0.9229 - val_loss: 0.0479 - val_acc: 0.9080\n",
      "Epoch 31/100\n",
      "750/750 [==============================] - 27s 36ms/step - loss: 0.0367 - acc: 0.9253 - val_loss: 0.0513 - val_acc: 0.9018\n",
      "Epoch 32/100\n",
      "750/750 [==============================] - 27s 36ms/step - loss: 0.0363 - acc: 0.9273 - val_loss: 0.0484 - val_acc: 0.9028\n",
      "Epoch 33/100\n",
      "750/750 [==============================] - 27s 36ms/step - loss: 0.0352 - acc: 0.9294 - val_loss: 0.0506 - val_acc: 0.8988\n",
      "Epoch 34/100\n",
      "750/750 [==============================] - 27s 36ms/step - loss: 0.0343 - acc: 0.9305 - val_loss: 0.0487 - val_acc: 0.9102\n",
      "Epoch 35/100\n",
      "750/750 [==============================] - 27s 36ms/step - loss: 0.0332 - acc: 0.9335 - val_loss: 0.0520 - val_acc: 0.8959\n",
      "Epoch 36/100\n",
      "750/750 [==============================] - 27s 36ms/step - loss: 0.0324 - acc: 0.9363 - val_loss: 0.0494 - val_acc: 0.9047\n",
      "Epoch 37/100\n",
      "750/750 [==============================] - 27s 36ms/step - loss: 0.0317 - acc: 0.9366 - val_loss: 0.0633 - val_acc: 0.8890\n",
      "Epoch 38/100\n",
      "750/750 [==============================] - 27s 36ms/step - loss: 0.0306 - acc: 0.9399 - val_loss: 0.0492 - val_acc: 0.9063\n",
      "Epoch 39/100\n",
      "750/750 [==============================] - 27s 36ms/step - loss: 0.0300 - acc: 0.9417 - val_loss: 0.0518 - val_acc: 0.9047\n",
      "Epoch 40/100\n",
      "750/750 [==============================] - 27s 36ms/step - loss: 0.0293 - acc: 0.9428 - val_loss: 0.0493 - val_acc: 0.9128\n",
      "Epoch 41/100\n",
      "750/750 [==============================] - 27s 36ms/step - loss: 0.0284 - acc: 0.9439 - val_loss: 0.0529 - val_acc: 0.9062\n",
      "Epoch 42/100\n",
      "750/750 [==============================] - 27s 36ms/step - loss: 0.0279 - acc: 0.9459 - val_loss: 0.0497 - val_acc: 0.9059\n",
      "Epoch 43/100\n",
      "750/750 [==============================] - 27s 36ms/step - loss: 0.0271 - acc: 0.9474 - val_loss: 0.0537 - val_acc: 0.9097\n",
      "Epoch 44/100\n",
      "750/750 [==============================] - 27s 36ms/step - loss: 0.0261 - acc: 0.9488 - val_loss: 0.0545 - val_acc: 0.9046\n",
      "Epoch 45/100\n",
      "750/750 [==============================] - 27s 36ms/step - loss: 0.0257 - acc: 0.9497 - val_loss: 0.0513 - val_acc: 0.9118\n",
      "Epoch 46/100\n",
      "750/750 [==============================] - 27s 36ms/step - loss: 0.0251 - acc: 0.9514 - val_loss: 0.0589 - val_acc: 0.9124\n",
      "Epoch 47/100\n",
      "750/750 [==============================] - 27s 36ms/step - loss: 0.0244 - acc: 0.9530 - val_loss: 0.0538 - val_acc: 0.9084\n",
      "Epoch 48/100\n",
      "750/750 [==============================] - 27s 36ms/step - loss: 0.0240 - acc: 0.9547 - val_loss: 0.0520 - val_acc: 0.9145\n",
      "Epoch 49/100\n",
      "750/750 [==============================] - 27s 36ms/step - loss: 0.0233 - acc: 0.9554 - val_loss: 0.0546 - val_acc: 0.9086\n",
      "Epoch 50/100\n",
      "750/750 [==============================] - 27s 36ms/step - loss: 0.0225 - acc: 0.9565 - val_loss: 0.0568 - val_acc: 0.9112\n",
      "Epoch 51/100\n",
      "750/750 [==============================] - 27s 36ms/step - loss: 0.0224 - acc: 0.9572 - val_loss: 0.1056 - val_acc: 0.9011\n",
      "Epoch 52/100\n",
      "750/750 [==============================] - 27s 36ms/step - loss: 0.0219 - acc: 0.9580 - val_loss: 0.0540 - val_acc: 0.9136\n",
      "Epoch 53/100\n",
      "750/750 [==============================] - 27s 36ms/step - loss: 0.0213 - acc: 0.9592 - val_loss: 0.0572 - val_acc: 0.9164\n",
      "Epoch 54/100\n",
      "750/750 [==============================] - 27s 36ms/step - loss: 0.0211 - acc: 0.9599 - val_loss: 0.0680 - val_acc: 0.9087\n",
      "Epoch 55/100\n",
      "750/750 [==============================] - 27s 36ms/step - loss: 0.0205 - acc: 0.9610 - val_loss: 0.0663 - val_acc: 0.9119\n",
      "Epoch 56/100\n",
      "750/750 [==============================] - 27s 36ms/step - loss: 0.0202 - acc: 0.9616 - val_loss: 0.0651 - val_acc: 0.9128\n",
      "Epoch 57/100\n",
      "750/750 [==============================] - 27s 36ms/step - loss: 0.0199 - acc: 0.9635 - val_loss: 0.0671 - val_acc: 0.9049\n",
      "Epoch 58/100\n",
      "750/750 [==============================] - 27s 36ms/step - loss: 0.0193 - acc: 0.9632 - val_loss: 0.0593 - val_acc: 0.9093\n",
      "Epoch 59/100\n",
      "750/750 [==============================] - 27s 36ms/step - loss: 0.0189 - acc: 0.9648 - val_loss: 0.0685 - val_acc: 0.9158\n",
      "Epoch 60/100\n",
      "750/750 [==============================] - 27s 36ms/step - loss: 0.0184 - acc: 0.9663 - val_loss: 0.0604 - val_acc: 0.9008\n",
      "Epoch 61/100\n"
     ]
    },
    {
     "name": "stdout",
     "output_type": "stream",
     "text": [
      "750/750 [==============================] - 27s 36ms/step - loss: 0.0183 - acc: 0.9656 - val_loss: 0.0718 - val_acc: 0.9038\n",
      "Epoch 62/100\n",
      "750/750 [==============================] - 27s 36ms/step - loss: 0.0191 - acc: 0.9661 - val_loss: 0.0582 - val_acc: 0.9091\n",
      "Epoch 63/100\n",
      "750/750 [==============================] - 27s 36ms/step - loss: 0.0180 - acc: 0.9664 - val_loss: 0.0688 - val_acc: 0.9068\n",
      "Epoch 64/100\n",
      "750/750 [==============================] - 27s 36ms/step - loss: 0.0180 - acc: 0.9659 - val_loss: 0.0557 - val_acc: 0.9037\n",
      "Epoch 65/100\n",
      "750/750 [==============================] - 27s 36ms/step - loss: 0.0177 - acc: 0.9674 - val_loss: 0.0920 - val_acc: 0.9064\n",
      "Epoch 66/100\n",
      "750/750 [==============================] - 27s 36ms/step - loss: 0.0175 - acc: 0.9674 - val_loss: 0.0741 - val_acc: 0.9133\n",
      "Epoch 67/100\n",
      "750/750 [==============================] - 27s 36ms/step - loss: 0.0173 - acc: 0.9686 - val_loss: 0.0655 - val_acc: 0.9158\n",
      "Epoch 68/100\n",
      "750/750 [==============================] - 27s 36ms/step - loss: 0.0171 - acc: 0.9683 - val_loss: 0.0894 - val_acc: 0.9132\n",
      "Epoch 69/100\n",
      "750/750 [==============================] - 27s 36ms/step - loss: 0.0170 - acc: 0.9694 - val_loss: 0.0875 - val_acc: 0.9135\n",
      "Epoch 70/100\n",
      "750/750 [==============================] - 27s 36ms/step - loss: 0.0169 - acc: 0.9693 - val_loss: 0.0693 - val_acc: 0.9022\n",
      "Epoch 71/100\n",
      "750/750 [==============================] - 27s 36ms/step - loss: 0.0169 - acc: 0.9700 - val_loss: 0.0669 - val_acc: 0.9099\n",
      "Epoch 72/100\n",
      "750/750 [==============================] - 27s 36ms/step - loss: 0.0163 - acc: 0.9706 - val_loss: 0.0640 - val_acc: 0.9054\n",
      "Epoch 73/100\n",
      "750/750 [==============================] - 27s 36ms/step - loss: 0.0162 - acc: 0.9714 - val_loss: 0.0639 - val_acc: 0.9172\n",
      "Epoch 74/100\n",
      "750/750 [==============================] - 27s 36ms/step - loss: 0.0162 - acc: 0.9703 - val_loss: 0.0666 - val_acc: 0.9107\n",
      "Epoch 75/100\n",
      "750/750 [==============================] - 27s 36ms/step - loss: 0.0166 - acc: 0.9703 - val_loss: 0.0741 - val_acc: 0.9152\n",
      "Epoch 76/100\n",
      "750/750 [==============================] - 27s 36ms/step - loss: 0.0168 - acc: 0.9704 - val_loss: 0.0735 - val_acc: 0.9118\n",
      "Epoch 77/100\n",
      "750/750 [==============================] - 27s 36ms/step - loss: 0.0160 - acc: 0.9716 - val_loss: 0.0603 - val_acc: 0.9050\n",
      "Epoch 78/100\n",
      "750/750 [==============================] - 27s 36ms/step - loss: 0.0169 - acc: 0.9704 - val_loss: 0.0772 - val_acc: 0.8971\n",
      "Epoch 79/100\n",
      "750/750 [==============================] - 27s 36ms/step - loss: 0.0161 - acc: 0.9715 - val_loss: 0.0677 - val_acc: 0.9122\n",
      "Epoch 80/100\n",
      "750/750 [==============================] - 27s 36ms/step - loss: 0.0156 - acc: 0.9729 - val_loss: 0.0621 - val_acc: 0.9079\n",
      "Epoch 81/100\n",
      "750/750 [==============================] - 27s 36ms/step - loss: 0.0165 - acc: 0.9725 - val_loss: 0.0630 - val_acc: 0.9128\n",
      "Epoch 82/100\n",
      "750/750 [==============================] - 27s 36ms/step - loss: 0.0158 - acc: 0.9722 - val_loss: 0.0810 - val_acc: 0.9027\n",
      "Epoch 83/100\n",
      "750/750 [==============================] - 27s 36ms/step - loss: 0.0174 - acc: 0.9720 - val_loss: 0.1045 - val_acc: 0.9090\n",
      "Epoch 84/100\n",
      "750/750 [==============================] - 27s 36ms/step - loss: 0.0163 - acc: 0.9718 - val_loss: 0.0545 - val_acc: 0.9143\n",
      "Epoch 85/100\n",
      "750/750 [==============================] - 27s 36ms/step - loss: 0.0154 - acc: 0.9724 - val_loss: 0.0672 - val_acc: 0.9100\n",
      "Epoch 86/100\n",
      "750/750 [==============================] - 27s 36ms/step - loss: 0.0155 - acc: 0.9722 - val_loss: 0.0991 - val_acc: 0.9080\n",
      "Epoch 87/100\n",
      "750/750 [==============================] - 27s 36ms/step - loss: 0.0155 - acc: 0.9733 - val_loss: 0.0703 - val_acc: 0.9028\n",
      "Epoch 88/100\n",
      "750/750 [==============================] - 27s 36ms/step - loss: 0.0158 - acc: 0.9722 - val_loss: 0.0913 - val_acc: 0.9137\n",
      "Epoch 89/100\n",
      "750/750 [==============================] - 27s 36ms/step - loss: 0.0162 - acc: 0.9720 - val_loss: 0.0702 - val_acc: 0.9178\n",
      "Epoch 90/100\n",
      "750/750 [==============================] - 27s 36ms/step - loss: 0.0163 - acc: 0.9722 - val_loss: 0.0780 - val_acc: 0.9182\n",
      "Epoch 91/100\n",
      "750/750 [==============================] - 27s 36ms/step - loss: 0.0160 - acc: 0.9713 - val_loss: 0.0951 - val_acc: 0.9059\n",
      "Epoch 92/100\n",
      "750/750 [==============================] - 27s 36ms/step - loss: 0.0159 - acc: 0.9735 - val_loss: 0.1064 - val_acc: 0.9068\n",
      "Epoch 93/100\n",
      "750/750 [==============================] - 27s 36ms/step - loss: 0.0156 - acc: 0.9731 - val_loss: 0.0848 - val_acc: 0.9009\n",
      "Epoch 94/100\n",
      "750/750 [==============================] - 27s 36ms/step - loss: 0.0154 - acc: 0.9736 - val_loss: 0.0701 - val_acc: 0.9159\n",
      "Epoch 95/100\n",
      "750/750 [==============================] - 27s 36ms/step - loss: 0.0173 - acc: 0.9725 - val_loss: 0.0850 - val_acc: 0.8888\n",
      "Epoch 96/100\n",
      "750/750 [==============================] - 27s 36ms/step - loss: 0.0162 - acc: 0.9732 - val_loss: 0.0949 - val_acc: 0.9029\n",
      "Epoch 97/100\n",
      "750/750 [==============================] - 27s 36ms/step - loss: 0.0157 - acc: 0.9738 - val_loss: 0.0653 - val_acc: 0.9134\n",
      "Epoch 98/100\n",
      "750/750 [==============================] - 27s 36ms/step - loss: 0.0159 - acc: 0.9730 - val_loss: 0.0564 - val_acc: 0.9126\n",
      "Epoch 99/100\n",
      "750/750 [==============================] - 27s 36ms/step - loss: 0.0162 - acc: 0.9725 - val_loss: 0.0722 - val_acc: 0.9096\n",
      "Epoch 100/100\n",
      "750/750 [==============================] - 27s 36ms/step - loss: 0.0160 - acc: 0.9729 - val_loss: 0.0726 - val_acc: 0.9107\n"
     ]
    }
   ],
   "source": [
    "history = model.fit(train_X, train_label, epochs=100, batch_size=64, validation_data=(valid_X, valid_label))"
   ]
  },
  {
   "cell_type": "code",
   "execution_count": 43,
   "id": "f13065c8",
   "metadata": {},
   "outputs": [
    {
     "data": {
      "image/png": "[encoded data removed]",
      "text/plain": [
       "<Figure size 432x288 with 1 Axes>"
      ]
     },
     "metadata": {
      "needs_background": "light"
     },
     "output_type": "display_data"
    },
    {
     "data": {
      "image/png": "[encoded data removed]",
      "text/plain": [
       "<Figure size 432x288 with 1 Axes>"
      ]
     },
     "metadata": {
      "needs_background": "light"
     },
     "output_type": "display_data"
    }
   ],
   "source": [
    "import matplotlib.pyplot as plt\n",
    "acc = history.history['acc']\n",
    "val_acc = history.history['val_acc']\n",
    "loss = history.history['loss']\n",
    "val_loss = history.history['val_loss']\n",
    "epochs = range(1, len(acc) + 1)\n",
    "\n",
    "plt.title('Training and validation accuracy')\n",
    "plt.plot(epochs, acc, 'red', label='Training acc')\n",
    "plt.plot(epochs, val_acc, 'blue', label='Validation acc')\n",
    "plt.legend()\n",
    "\n",
    "plt.figure()\n",
    "plt.title('Training and validation loss')\n",
    "plt.plot(epochs, loss, 'red', label='Training loss')\n",
    "plt.plot(epochs, val_loss, 'blue', label='Validation loss')\n",
    "\n",
    "plt.legend()\n",
    "\n",
    "plt.show()"
   ]
  },
  {
   "cell_type": "code",
   "execution_count": 45,
   "id": "a9c078f0",
   "metadata": {},
   "outputs": [
    {
     "name": "stdout",
     "output_type": "stream",
     "text": [
      "313/313 [==============================] - 3s 8ms/step - loss: 0.0792 - acc: 0.9116\n",
      "test acc: 0.9115999937057495\n"
     ]
    }
   ],
   "source": [
    "test_loss, test_acc = model.evaluate(test_X, test_Y_one_hot)\n",
    "print(\"test acc:\", test_acc)"
   ]
  },
  {
   "cell_type": "code",
   "execution_count": null,
   "id": "0bc637bd",
   "metadata": {},
   "outputs": [],
   "source": []
  },
  {
   "cell_type": "code",
   "execution_count": null,
   "id": "c9bc5c9d",
   "metadata": {},
   "outputs": [],
   "source": []
  }
 ],
 "metadata": {
  "kernelspec": {
   "display_name": "Python 3 (ipykernel)",
   "language": "python",
   "name": "python3"
  },
  "language_info": {
   "codemirror_mode": {
    "name": "ipython",
    "version": 3
   },
   "file_extension": ".py",
   "mimetype": "text/x-python",
   "name": "python",
   "nbconvert_exporter": "python",
   "pygments_lexer": "ipython3",
   "version": "3.9.12"
  }
 },
 "nbformat": 4,
 "nbformat_minor": 5
}
